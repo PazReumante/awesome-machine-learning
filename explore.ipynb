{
 "cells": [
  {
   "cell_type": "code",
   "execution_count": 1,
   "metadata": {},
   "outputs": [
    {
     "ename": "NameError",
     "evalue": "name 'os' is not defined",
     "output_type": "error",
     "traceback": [
      "\u001b[0;31m---------------------------------------------------------------------------\u001b[0m",
      "\u001b[0;31mNameError\u001b[0m                                 Traceback (most recent call last)",
      "Cell \u001b[0;32mIn[1], line 7\u001b[0m\n\u001b[1;32m      4\u001b[0m data_dir \u001b[38;5;241m=\u001b[39m \u001b[38;5;124m\"\u001b[39m\u001b[38;5;124m../data/raw\u001b[39m\u001b[38;5;124m\"\u001b[39m\n\u001b[1;32m      6\u001b[0m \u001b[38;5;66;03m# Get a list of all dog image file names\u001b[39;00m\n\u001b[0;32m----> 7\u001b[0m dog_subfolder \u001b[38;5;241m=\u001b[39m \u001b[43mos\u001b[49m\u001b[38;5;241m.\u001b[39mpath\u001b[38;5;241m.\u001b[39mjoin(data_dir, \u001b[38;5;124m\"\u001b[39m\u001b[38;5;124mdog\u001b[39m\u001b[38;5;124m\"\u001b[39m)\n\u001b[1;32m      9\u001b[0m \u001b[38;5;66;03m# Get a list of all dog image file names\u001b[39;00m\n\u001b[1;32m     10\u001b[0m dog_image_files \u001b[38;5;241m=\u001b[39m os\u001b[38;5;241m.\u001b[39mlistdir(dog_subfolder)\n",
      "\u001b[0;31mNameError\u001b[0m: name 'os' is not defined"
     ]
    }
   ],
   "source": [
    "# Import and Check first 9 Dog Pictures\n",
    "\n",
    "# Path to the directory containing your image data\n",
    "data_dir = \"../data/raw\"\n",
    "\n",
    "# Get a list of all dog image file names\n",
    "dog_subfolder = os.path.join(data_dir, \"dog\")\n",
    "\n",
    "# Get a list of all dog image file names\n",
    "dog_image_files = os.listdir(dog_subfolder)\n",
    "\n",
    "# Load the first nine dog images\n",
    "dog_images = []\n",
    "for i in range(9):\n",
    "    img_path = os.path.join(dog_subfolder, dog_image_files[i])\n",
    "    img = image.load_img(img_path)  # Adjust target_size as needed\n",
    "    img_array = image.img_to_array(img)\n",
    "    img_array /= 255.0  # Normalize pixel values to [0, 1]\n",
    "    dog_images.append(img_array)\n",
    "\n",
    "# Create a single figure to display all nine images\n",
    "plt.figure(figsize=(12, 8))\n",
    "\n",
    "for i in range(9):\n",
    "    plt.subplot(3, 3, i + 1)\n",
    "    plt.imshow(dog_images[i])\n",
    "    plt.title('Dog Image')\n",
    "    plt.axis('off')\n",
    "\n",
    "# Adjust Layout\n",
    "plt.tight_layout()\n",
    "\n",
    "# Show the pictures\n",
    "plt.show()\n"
   ]
  }
 ],
 "metadata": {
  "kernelspec": {
   "display_name": "Python 3",
   "language": "python",
   "name": "python3"
  },
  "language_info": {
   "codemirror_mode": {
    "name": "ipython",
    "version": 3
   },
   "file_extension": ".py",
   "mimetype": "text/x-python",
   "name": "python",
   "nbconvert_exporter": "python",
   "pygments_lexer": "ipython3",
   "version": "3.10.13"
  }
 },
 "nbformat": 4,
 "nbformat_minor": 2
}
